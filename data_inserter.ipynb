{
 "metadata": {
  "language_info": {
   "codemirror_mode": {
    "name": "ipython",
    "version": 3
   },
   "file_extension": ".py",
   "mimetype": "text/x-python",
   "name": "python",
   "nbconvert_exporter": "python",
   "pygments_lexer": "ipython3",
   "version": "3.9.4"
  },
  "orig_nbformat": 4,
  "kernelspec": {
   "name": "python3",
   "display_name": "Python 3.9.4 64-bit"
  },
  "interpreter": {
   "hash": "28c3ae4237bb0abadc2a11ac3702f65693dd8eb58805f8b7a3c4c6dabbcae838"
  }
 },
 "nbformat": 4,
 "nbformat_minor": 2,
 "cells": [
  {
   "source": [
    "# Program to add data to mySQL table"
   ],
   "cell_type": "markdown",
   "metadata": {}
  },
  {
   "cell_type": "code",
   "execution_count": 1,
   "metadata": {},
   "outputs": [
    {
     "output_type": "execute_result",
     "data": {
      "text/plain": [
       "                      cname         cnum           iid    amount      duedate  \\\n",
       "0     LOB llc                0140104409   2.960617e+09  76241.35  2020-03-19    \n",
       "1     BJ'S  foundation       0200726979   1.930572e+09    362.81  2020-03-13    \n",
       "2     GLA                    0200742521   1.930567e+09  23155.48  2020-03-13    \n",
       "3     COST llc               0200794332   1.930574e+09  12610.49  2020-03-13    \n",
       "4     US  in                 0200357714   1.930576e+09  70869.05  2020-03-13    \n",
       "...                     ...          ...           ...       ...          ...   \n",
       "9994  GODL us                100012181    1.930897e+09    120.00  2020-06-12    \n",
       "9995  ANTONIO llc            0200447006   1.930893e+09  31714.10  2020-05-28    \n",
       "9996  FLANAG trust           0140104392   2.960634e+09   5607.95  2020-05-27    \n",
       "9997  GROC                   0200915438   1.930915e+09   8326.87  2020-06-03    \n",
       "9998  PRES trust             100026809    1.930917e+09   7043.75  2020-05-29    \n",
       "\n",
       "        preddate  \n",
       "0     2020-03-13  \n",
       "1     2020-03-13  \n",
       "2     2020-03-13  \n",
       "3     2020-03-12  \n",
       "4     2020-03-13  \n",
       "...          ...  \n",
       "9994  2020-06-01  \n",
       "9995  2020-05-28  \n",
       "9996  2020-05-30  \n",
       "9997  2020-06-03  \n",
       "9998  2020-06-02  \n",
       "\n",
       "[9999 rows x 6 columns]"
      ],
      "text/html": "<div>\n<style scoped>\n    .dataframe tbody tr th:only-of-type {\n        vertical-align: middle;\n    }\n\n    .dataframe tbody tr th {\n        vertical-align: top;\n    }\n\n    .dataframe thead th {\n        text-align: right;\n    }\n</style>\n<table border=\"1\" class=\"dataframe\">\n  <thead>\n    <tr style=\"text-align: right;\">\n      <th></th>\n      <th>cname</th>\n      <th>cnum</th>\n      <th>iid</th>\n      <th>amount</th>\n      <th>duedate</th>\n      <th>preddate</th>\n    </tr>\n  </thead>\n  <tbody>\n    <tr>\n      <th>0</th>\n      <td>LOB llc</td>\n      <td>0140104409</td>\n      <td>2.960617e+09</td>\n      <td>76241.35</td>\n      <td>2020-03-19</td>\n      <td>2020-03-13</td>\n    </tr>\n    <tr>\n      <th>1</th>\n      <td>BJ'S  foundation</td>\n      <td>0200726979</td>\n      <td>1.930572e+09</td>\n      <td>362.81</td>\n      <td>2020-03-13</td>\n      <td>2020-03-13</td>\n    </tr>\n    <tr>\n      <th>2</th>\n      <td>GLA</td>\n      <td>0200742521</td>\n      <td>1.930567e+09</td>\n      <td>23155.48</td>\n      <td>2020-03-13</td>\n      <td>2020-03-13</td>\n    </tr>\n    <tr>\n      <th>3</th>\n      <td>COST llc</td>\n      <td>0200794332</td>\n      <td>1.930574e+09</td>\n      <td>12610.49</td>\n      <td>2020-03-13</td>\n      <td>2020-03-12</td>\n    </tr>\n    <tr>\n      <th>4</th>\n      <td>US  in</td>\n      <td>0200357714</td>\n      <td>1.930576e+09</td>\n      <td>70869.05</td>\n      <td>2020-03-13</td>\n      <td>2020-03-13</td>\n    </tr>\n    <tr>\n      <th>...</th>\n      <td>...</td>\n      <td>...</td>\n      <td>...</td>\n      <td>...</td>\n      <td>...</td>\n      <td>...</td>\n    </tr>\n    <tr>\n      <th>9994</th>\n      <td>GODL us</td>\n      <td>100012181</td>\n      <td>1.930897e+09</td>\n      <td>120.00</td>\n      <td>2020-06-12</td>\n      <td>2020-06-01</td>\n    </tr>\n    <tr>\n      <th>9995</th>\n      <td>ANTONIO llc</td>\n      <td>0200447006</td>\n      <td>1.930893e+09</td>\n      <td>31714.10</td>\n      <td>2020-05-28</td>\n      <td>2020-05-28</td>\n    </tr>\n    <tr>\n      <th>9996</th>\n      <td>FLANAG trust</td>\n      <td>0140104392</td>\n      <td>2.960634e+09</td>\n      <td>5607.95</td>\n      <td>2020-05-27</td>\n      <td>2020-05-30</td>\n    </tr>\n    <tr>\n      <th>9997</th>\n      <td>GROC</td>\n      <td>0200915438</td>\n      <td>1.930915e+09</td>\n      <td>8326.87</td>\n      <td>2020-06-03</td>\n      <td>2020-06-03</td>\n    </tr>\n    <tr>\n      <th>9998</th>\n      <td>PRES trust</td>\n      <td>100026809</td>\n      <td>1.930917e+09</td>\n      <td>7043.75</td>\n      <td>2020-05-29</td>\n      <td>2020-06-02</td>\n    </tr>\n  </tbody>\n</table>\n<p>9999 rows × 6 columns</p>\n</div>"
     },
     "metadata": {},
     "execution_count": 1
    }
   ],
   "source": [
    "import pandas as pd\n",
    "data1 = pd.read_csv(\"Data/WebApp_Final_Data.csv\")\n",
    "data1.columns = [\"cname\",\"cnum\",\"iid\",\"amount\",\"duedate\",\"preddate\"]\n",
    "data1"
   ]
  },
  {
   "cell_type": "code",
   "execution_count": 3,
   "metadata": {},
   "outputs": [
    {
     "output_type": "execute_result",
     "data": {
      "text/plain": [
       "(9667, 6)"
      ]
     },
     "metadata": {},
     "execution_count": 3
    }
   ],
   "source": [
    "# iid has \".0\" in the end, this is to remove it.\n",
    "data1['iid'] = data1['iid'].astype(\"str\")\n",
    "data1['iid'] = data1['iid'].str.slice(0,-2,1) \n",
    "\n",
    "#Only unique iid's please!\n",
    "data1.drop_duplicates(subset=['iid'],keep='first',inplace=True)\n",
    "data1.shape"
   ]
  },
  {
   "cell_type": "code",
   "execution_count": 54,
   "metadata": {},
   "outputs": [],
   "source": [
    "# Save to CSV file\n",
    "#data1.to_csv('Data/WebApp_Final_Data_unique.csv',index=None)"
   ]
  },
  {
   "cell_type": "code",
   "execution_count": 4,
   "metadata": {},
   "outputs": [],
   "source": [
    "import mysql.connector"
   ]
  },
  {
   "cell_type": "code",
   "execution_count": 5,
   "metadata": {},
   "outputs": [
    {
     "output_type": "stream",
     "name": "stdout",
     "text": [
      "<mysql.connector.connection_cext.CMySQLConnection object at 0x000001B34EFC7E80>\n"
     ]
    }
   ],
   "source": [
    "db2 = mysql.connector.connect(host = 'localhost',user='root',password = 'root',auth_plugin='mysql_native_password')\n",
    "print(db2)"
   ]
  },
  {
   "cell_type": "code",
   "execution_count": 6,
   "metadata": {},
   "outputs": [],
   "source": [
    "cursor = db2.cursor()\n",
    "#use a db called highradius.\n",
    "cursor.execute(\"use highradius;\")\n",
    "\n",
    "#Purge old data if exists:\n",
    "cursor.execute(\"truncate table invdata_test;\")\n",
    "db2.commit()"
   ]
  },
  {
   "cell_type": "code",
   "execution_count": 9,
   "metadata": {
    "tags": []
   },
   "outputs": [
    {
     "output_type": "stream",
     "name": "stdout",
     "text": [
      "0    insert into invdata_test(cname,cnum,iid,amount,duedate,preddate) values(\"LOB llc\",\"0140104409\",\"2960616692\",76241.35,DATE'2020-03-19',DATE'2020-03-13')\n",
      "Committed the last 1k lines\n",
      "1    insert into invdata_test(cname,cnum,iid,amount,duedate,preddate) values(\"BJ'S  foundation\",\"0200726979\",\"1930572462\",362.81,DATE'2020-03-13',DATE'2020-03-13')\n",
      "Committed the last 1k lines\n",
      "2    insert into invdata_test(cname,cnum,iid,amount,duedate,preddate) values(\"GLA\",\"0200742521\",\"1930567164\",23155.48,DATE'2020-03-13',DATE'2020-03-13')\n",
      "Committed the last 1k lines\n",
      "3    insert into invdata_test(cname,cnum,iid,amount,duedate,preddate) values(\"COST llc\",\"0200794332\",\"1930573750\",12610.49,DATE'2020-03-13',DATE'2020-03-12')\n",
      "Committed the last 1k lines\n",
      "4    insert into invdata_test(cname,cnum,iid,amount,duedate,preddate) values(\"US  in\",\"0200357714\",\"1930576008\",70869.05,DATE'2020-03-13',DATE'2020-03-13')\n",
      "Committed the last 1k lines\n",
      "5    insert into invdata_test(cname,cnum,iid,amount,duedate,preddate) values(\"WAL-MAR in\",\"0200769623\",\"1930570660\",1898.9,DATE'2020-03-13',DATE'2020-03-10')\n",
      "Committed the last 1k lines\n",
      "6    insert into invdata_test(cname,cnum,iid,amount,duedate,preddate) values(\"M  trust\",\"0200424504\",\"1930570290\",4296.33,DATE'2020-03-15',DATE'2020-03-12')\n",
      "Committed the last 1k lines\n",
      "7    insert into invdata_test(cname,cnum,iid,amount,duedate,preddate) values(\"BJ'S  us\",\"0200726979\",\"1930570469\",574.67,DATE'2020-03-13',DATE'2020-03-13')\n",
      "Committed the last 1k lines\n",
      "8    insert into invdata_test(cname,cnum,iid,amount,duedate,preddate) values(\"REINHA trust\",\"0200756072\",\"1930575630\",21446.78,DATE'2020-03-13',DATE'2020-03-13')\n",
      "Committed the last 1k lines\n",
      "9    insert into invdata_test(cname,cnum,iid,amount,duedate,preddate) values(\"WEIS in\",\"0200771157\",\"1930580426\",48799.71,DATE'2020-03-13',DATE'2020-03-13')\n",
      "Committed the last 1k lines\n",
      "10    insert into invdata_test(cname,cnum,iid,amount,duedate,preddate) values(\"RESTA llc\",\"0200974851\",\"1930573894\",348.85,DATE'2020-03-13',DATE'2020-03-13')\n",
      "Committed the last 1k lines\n",
      "Lines ran out, ending and commiting!\n",
      "11 Queries executed. Check table in SQLyog!\n"
     ]
    }
   ],
   "source": [
    "with open(\"Data/WebApp_Final_Data_unique.csv\",\"r\") as csv:\n",
    "    lines = csv.readlines()\n",
    "    count = 0\n",
    "    for line in lines:\n",
    "        values = line.strip().split(\",\")\n",
    "        cname = '\\\"'+values[0].strip()+'\\\"'\n",
    "        cnum = '\\\"'+values[1].strip()+'\\\"'\n",
    "        cid = '\\\"'+values[2]+'\\\"'\n",
    "        amount = float(values[3])\n",
    "        ddate = values[4].strip()\n",
    "        pdate = values[5].strip()\n",
    "\n",
    "        query = \"insert into invdata_test(cname,cnum,iid,amount,duedate,preddate) values({},{},{},{},DATE'{}',DATE'{}')\".format(cname,cnum,cid,amount,ddate,pdate)\n",
    "        print(count,\"  \",query)\n",
    "        cursor.execute(query)\n",
    "        count+=1\n",
    "        if(count%1000):\n",
    "            db2.commit()\n",
    "            print(\"Committed the last 1k lines\")\n",
    "        if not line or count>10:\n",
    "            print(\"Lines ran out, ending and commiting!\")\n",
    "            db2.commit()\n",
    "            break\n",
    "db2.commit()\n",
    "print(count,\"Queries executed. Check table in SQLyog!\")"
   ]
  },
  {
   "cell_type": "code",
   "execution_count": 10,
   "metadata": {},
   "outputs": [],
   "source": [
    "db2.close()"
   ]
  }
 ]
}